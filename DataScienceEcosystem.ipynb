{
 "cells": [
  {
   "cell_type": "markdown",
   "id": "a8a18b9c-6cf6-4e9e-bc14-b2a78da70f66",
   "metadata": {},
   "source": [
    "# Data Science Tools and Ecosystem"
   ]
  },
  {
   "cell_type": "markdown",
   "id": "f6517975-b396-4172-b15e-23cf92d63958",
   "metadata": {},
   "source": [
    "### Data Science Tools and Ecosystem are summarized"
   ]
  },
  {
   "cell_type": "markdown",
   "id": "b3df3f5c-7022-43cb-817b-46e3417ab8c7",
   "metadata": {},
   "source": [
    "## __Objectives__:\n",
    "\n",
    "+ Populare langiages in Data Science\n",
    "+ Commonly used Libraries in Data Science\n",
    "+ Three Develeopment Environments\n",
    "+ Arithmatic expression and examples\n"
   ]
  },
  {
   "cell_type": "markdown",
   "id": "c299693f-69d8-4e2c-9308-d2c7ffe0303e",
   "metadata": {},
   "source": [
    "#### Some of the popular languages that Data Scientists use are:\n",
    "\n",
    "    1. Python\n",
    "    2. R\n",
    "    3. Julia\n",
    "    4. Java"
   ]
  },
  {
   "cell_type": "markdown",
   "id": "a70965ed-fad1-494e-837c-036ec9e43d08",
   "metadata": {},
   "source": [
    "#### Some of the commonly used libraries used by Data Scientists include:\n",
    "    \n",
    "    1. NumPy\n",
    "    2. SciPy\n",
    "    3. Pandas\n",
    "    4. Matplotlib\n",
    "    5. Keras\n",
    "    6. SciKit-Learn\n",
    "    7. PyTorch"
   ]
  },
  {
   "cell_type": "markdown",
   "id": "2bf62ffe-e919-4295-b531-540006bad190",
   "metadata": {},
   "source": [
    "#### Three development environment open source tools used in data science\n",
    "\n",
    "| development environment |\n",
    "|----------|\n",
    "| Anaconda   |\n",
    "| R Studio |\n",
    "| Apache Spark |"
   ]
  },
  {
   "cell_type": "markdown",
   "id": "efdfaf9b-1f1c-4c03-b554-736f18027a35",
   "metadata": {},
   "source": [
    "### Below are a few examples of evaluating arithmetic expressions in Python"
   ]
  },
  {
   "cell_type": "code",
   "execution_count": 3,
   "id": "bde8f3ac-371d-4075-8fa4-5a4db9672635",
   "metadata": {
    "tags": []
   },
   "outputs": [
    {
     "data": {
      "text/plain": [
       "17"
      ]
     },
     "execution_count": 3,
     "metadata": {},
     "output_type": "execute_result"
    }
   ],
   "source": [
    "(3*4)+5\n",
    "# his a simple arithmetic expression to mutiply then add integers"
   ]
  },
  {
   "cell_type": "code",
   "execution_count": 5,
   "id": "fcb0f262-9982-4fbc-8b1e-4ec4731b6448",
   "metadata": {
    "tags": []
   },
   "outputs": [
    {
     "data": {
      "text/plain": [
       "1.25"
      ]
     },
     "execution_count": 5,
     "metadata": {},
     "output_type": "execute_result"
    }
   ],
   "source": [
    "54"
   ]
  },
  {
   "cell_type": "code",
   "execution_count": 8,
   "id": "e6bcf85e-f654-4f5d-9e90-52eb6f0cb942",
   "metadata": {
    "tags": []
   },
   "outputs": [
    {
     "name": "stdout",
     "output_type": "stream",
     "text": [
      "200 minutes is 3 hours and 20  minutes\n"
     ]
    }
   ],
   "source": [
    "# This will convert 200 minutes to hours by diving by 60\n",
    "\n",
    "total_minutes = 200\n",
    "hours, minutes = divmod(total_minutes, 60)\n",
    "print(f\"{total_minutes} minutes is {hours} hours and {minutes}  minutes\")"
   ]
  },
  {
   "cell_type": "markdown",
   "id": "35e79b1e-b716-4305-9c03-0a10b8f829e9",
   "metadata": {},
   "source": [
    "## Author: Mohsen Goodarzi"
   ]
  },
  {
   "cell_type": "code",
   "execution_count": null,
   "id": "ea5f6514-e235-40bd-bea4-106e40963b57",
   "metadata": {},
   "outputs": [],
   "source": []
  }
 ],
 "metadata": {
  "kernelspec": {
   "display_name": "Python",
   "language": "python",
   "name": "conda-env-python-py"
  },
  "language_info": {
   "codemirror_mode": {
    "name": "ipython",
    "version": 3
   },
   "file_extension": ".py",
   "mimetype": "text/x-python",
   "name": "python",
   "nbconvert_exporter": "python",
   "pygments_lexer": "ipython3",
   "version": "3.7.12"
  }
 },
 "nbformat": 4,
 "nbformat_minor": 5
}
